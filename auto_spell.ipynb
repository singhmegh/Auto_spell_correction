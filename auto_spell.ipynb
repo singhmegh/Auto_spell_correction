{
  "nbformat": 4,
  "nbformat_minor": 0,
  "metadata": {
    "colab": {
      "provenance": [],
      "gpuType": "T4",
      "authorship_tag": "ABX9TyOyT96uzUBRvTD2V9kw2B7A",
      "include_colab_link": true
    },
    "kernelspec": {
      "name": "python3",
      "display_name": "Python 3"
    },
    "language_info": {
      "name": "python"
    },
    "accelerator": "GPU"
  },
  "cells": [
    {
      "cell_type": "markdown",
      "metadata": {
        "id": "view-in-github",
        "colab_type": "text"
      },
      "source": [
        "<a href=\"https://colab.research.google.com/github/singhmegh/Auto_spell_correction/blob/main/auto_spell.ipynb\" target=\"_parent\"><img src=\"https://colab.research.google.com/assets/colab-badge.svg\" alt=\"Open In Colab\"/></a>"
      ]
    },
    {
      "cell_type": "code",
      "source": [
        "dict = [\"namaste\" , \"dost\" ,\"maza\" , \"shukriya\" ,\"chai\" , \"khana\" ,\n",
        "        \"sher\", \"Kaise\" , \"Kon\" , \"bahut\" , \"pyaar\" , \"dhanayavaad\" ,\n",
        "        \"haan\", \"nahi\",\"achaa\"]"
      ],
      "metadata": {
        "id": "Onjfb1w4nd2L"
      },
      "execution_count": 11,
      "outputs": []
    },
    {
      "cell_type": "code",
      "source": [
        "from nltk.metrics import edit_distance\n",
        "\n",
        "with open(\"multilingual_misspelled_words.txt\", \"r\", encoding=\"utf-8\") as f:\n",
        "    misspelled_words = [w.strip() for w in f]\n",
        "\n",
        "with open(\"multilingual_correct_words.txt\", \"r\", encoding=\"utf-8\") as f:\n",
        "    correct_words = [w.strip() for w in f]\n",
        "\n",
        "def correct_word(word, dictionary):\n",
        "\n",
        "    return min(dictionary, key=lambda w: edit_distance(word, w))\n",
        "\n",
        "sample_errors = misspelled_words[:500]\n",
        "sample_dict   = correct_words[:500]\n",
        "\n",
        "results = []\n",
        "for wrong in sample_errors:\n",
        "    best = correct_word(wrong, sample_dict)\n",
        "    results.append((wrong, best))\n",
        "\n",
        "for w, sug in results[:10]:\n",
        "    print(f\"{w} -> {sug}\")"
      ],
      "metadata": {
        "colab": {
          "base_uri": "https://localhost:8080/"
        },
        "id": "tfvWIYBuG2qM",
        "outputId": "53c3f6c8-a295-4e61-9614-f3bbf2cdf9e5"
      },
      "execution_count": 17,
      "outputs": [
        {
          "output_type": "stream",
          "name": "stdout",
          "text": [
            "भााष -> भाषा\n",
            "विज्ञानन -> विज्ञान\n",
            "mita -> mitra\n",
            "सहाित्य -> साहित्य\n",
            "समाजज -> समाज\n",
            "praiksha -> pariksha\n",
            "opportunitty -> opportunity\n",
            "माझ2ा0 -> माझा\n",
            "performonce -> performance\n",
            "swaatntrata -> swatantrata\n"
          ]
        }
      ]
    },
    {
      "cell_type": "markdown",
      "source": [
        "**Create a corrected file**"
      ],
      "metadata": {
        "id": "TpsqLZhIvzTq"
      }
    },
    {
      "cell_type": "code",
      "source": [
        "with open(\"correct_text.txt\", \"w\", encoding=\"utf-8\") as f:\n",
        "\n",
        "    f.write(\"Misspelled Word\\tRight Word\\n\")\n",
        "    f.write(\"-\" * 35 + \"\\n\")\n",
        "\n",
        "\n",
        "    for wrong, right in results:\n",
        "        f.write(f\"{wrong}\\t{right}\\n\")\n",
        "\n",
        "print(\"Corrected words saved in file with headings\")\n"
      ],
      "metadata": {
        "colab": {
          "base_uri": "https://localhost:8080/"
        },
        "id": "p-OLvUgyoeVE",
        "outputId": "b0e47e79-63cc-442c-d0b6-68800790fcfc"
      },
      "execution_count": 18,
      "outputs": [
        {
          "output_type": "stream",
          "name": "stdout",
          "text": [
            "Corrected words saved in file with headings\n"
          ]
        }
      ]
    },
    {
      "cell_type": "code",
      "source": [],
      "metadata": {
        "id": "dhQbo1MXoeYJ"
      },
      "execution_count": null,
      "outputs": []
    }
  ]
}